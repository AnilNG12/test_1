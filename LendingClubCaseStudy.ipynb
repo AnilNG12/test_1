{
 "cells": [
  {
   "cell_type": "markdown",
   "metadata": {},
   "source": [
    "# #LendingClubCaseStudy\n",
    "\n",
    "Lending Club Company is the largest online loan marketplace, facilitating personal loans, business loans, and financing of medical procedures. Borrowers can easily access lower interest rate loans through a fast online interface\n",
    "\n",
    "This case study to \"the company wants to understand the driving factors (or driver variables) behind loan default, i.e. the variables which are strong indicators of default.  The company can utilise this knowledge for its portfolio and risk assessment\"\n"
   ]
  },
  {
   "cell_type": "code",
   "execution_count": 166,
   "metadata": {
    "id": "bn-4iIeaFDwb"
   },
   "outputs": [],
   "source": [
    "#Load the libraryss\n",
    "import pandas as pd #To work with dataset\n",
    "import numpy as np #Math library\n",
    "import seaborn as sns #Graph library that use matplot in background\n",
    "import matplotlib.pyplot as plt #to plot some parameters in seaborn"
   ]
  },
  {
   "cell_type": "code",
   "execution_count": 167,
   "metadata": {
    "id": "xB4saI1JFDwe"
   },
   "outputs": [
    {
     "name": "stderr",
     "output_type": "stream",
     "text": [
      "C:\\Users\\apallepati\\AppData\\Local\\Temp\\ipykernel_11032\\2002995833.py:2: DtypeWarning: Columns (47) have mixed types. Specify dtype option on import or set low_memory=False.\n",
      "  df_Len_club = pd.read_csv(\"loan.csv\",index_col=0)\n"
     ]
    }
   ],
   "source": [
    "#Importing the Source data\n",
    "df_Len_club = pd.read_csv(\"loan.csv\",index_col=0)"
   ]
  },
  {
   "cell_type": "code",
   "execution_count": 168,
   "metadata": {},
   "outputs": [
    {
     "data": {
      "text/html": [
       "<div>\n",
       "<style scoped>\n",
       "    .dataframe tbody tr th:only-of-type {\n",
       "        vertical-align: middle;\n",
       "    }\n",
       "\n",
       "    .dataframe tbody tr th {\n",
       "        vertical-align: top;\n",
       "    }\n",
       "\n",
       "    .dataframe thead th {\n",
       "        text-align: right;\n",
       "    }\n",
       "</style>\n",
       "<table border=\"1\" class=\"dataframe\">\n",
       "  <thead>\n",
       "    <tr style=\"text-align: right;\">\n",
       "      <th></th>\n",
       "      <th>member_id</th>\n",
       "      <th>loan_amnt</th>\n",
       "      <th>funded_amnt</th>\n",
       "      <th>funded_amnt_inv</th>\n",
       "      <th>term</th>\n",
       "      <th>int_rate</th>\n",
       "      <th>installment</th>\n",
       "      <th>grade</th>\n",
       "      <th>sub_grade</th>\n",
       "      <th>emp_title</th>\n",
       "      <th>...</th>\n",
       "      <th>num_tl_90g_dpd_24m</th>\n",
       "      <th>num_tl_op_past_12m</th>\n",
       "      <th>pct_tl_nvr_dlq</th>\n",
       "      <th>percent_bc_gt_75</th>\n",
       "      <th>pub_rec_bankruptcies</th>\n",
       "      <th>tax_liens</th>\n",
       "      <th>tot_hi_cred_lim</th>\n",
       "      <th>total_bal_ex_mort</th>\n",
       "      <th>total_bc_limit</th>\n",
       "      <th>total_il_high_credit_limit</th>\n",
       "    </tr>\n",
       "    <tr>\n",
       "      <th>id</th>\n",
       "      <th></th>\n",
       "      <th></th>\n",
       "      <th></th>\n",
       "      <th></th>\n",
       "      <th></th>\n",
       "      <th></th>\n",
       "      <th></th>\n",
       "      <th></th>\n",
       "      <th></th>\n",
       "      <th></th>\n",
       "      <th></th>\n",
       "      <th></th>\n",
       "      <th></th>\n",
       "      <th></th>\n",
       "      <th></th>\n",
       "      <th></th>\n",
       "      <th></th>\n",
       "      <th></th>\n",
       "      <th></th>\n",
       "      <th></th>\n",
       "      <th></th>\n",
       "    </tr>\n",
       "  </thead>\n",
       "  <tbody>\n",
       "    <tr>\n",
       "      <th>1077501</th>\n",
       "      <td>1296599</td>\n",
       "      <td>5000</td>\n",
       "      <td>5000</td>\n",
       "      <td>4975.0</td>\n",
       "      <td>36 months</td>\n",
       "      <td>10.65%</td>\n",
       "      <td>162.87</td>\n",
       "      <td>B</td>\n",
       "      <td>B2</td>\n",
       "      <td>NaN</td>\n",
       "      <td>...</td>\n",
       "      <td>NaN</td>\n",
       "      <td>NaN</td>\n",
       "      <td>NaN</td>\n",
       "      <td>NaN</td>\n",
       "      <td>0.0</td>\n",
       "      <td>0.0</td>\n",
       "      <td>NaN</td>\n",
       "      <td>NaN</td>\n",
       "      <td>NaN</td>\n",
       "      <td>NaN</td>\n",
       "    </tr>\n",
       "    <tr>\n",
       "      <th>1077430</th>\n",
       "      <td>1314167</td>\n",
       "      <td>2500</td>\n",
       "      <td>2500</td>\n",
       "      <td>2500.0</td>\n",
       "      <td>60 months</td>\n",
       "      <td>15.27%</td>\n",
       "      <td>59.83</td>\n",
       "      <td>C</td>\n",
       "      <td>C4</td>\n",
       "      <td>Ryder</td>\n",
       "      <td>...</td>\n",
       "      <td>NaN</td>\n",
       "      <td>NaN</td>\n",
       "      <td>NaN</td>\n",
       "      <td>NaN</td>\n",
       "      <td>0.0</td>\n",
       "      <td>0.0</td>\n",
       "      <td>NaN</td>\n",
       "      <td>NaN</td>\n",
       "      <td>NaN</td>\n",
       "      <td>NaN</td>\n",
       "    </tr>\n",
       "    <tr>\n",
       "      <th>1077175</th>\n",
       "      <td>1313524</td>\n",
       "      <td>2400</td>\n",
       "      <td>2400</td>\n",
       "      <td>2400.0</td>\n",
       "      <td>36 months</td>\n",
       "      <td>15.96%</td>\n",
       "      <td>84.33</td>\n",
       "      <td>C</td>\n",
       "      <td>C5</td>\n",
       "      <td>NaN</td>\n",
       "      <td>...</td>\n",
       "      <td>NaN</td>\n",
       "      <td>NaN</td>\n",
       "      <td>NaN</td>\n",
       "      <td>NaN</td>\n",
       "      <td>0.0</td>\n",
       "      <td>0.0</td>\n",
       "      <td>NaN</td>\n",
       "      <td>NaN</td>\n",
       "      <td>NaN</td>\n",
       "      <td>NaN</td>\n",
       "    </tr>\n",
       "    <tr>\n",
       "      <th>1076863</th>\n",
       "      <td>1277178</td>\n",
       "      <td>10000</td>\n",
       "      <td>10000</td>\n",
       "      <td>10000.0</td>\n",
       "      <td>36 months</td>\n",
       "      <td>13.49%</td>\n",
       "      <td>339.31</td>\n",
       "      <td>C</td>\n",
       "      <td>C1</td>\n",
       "      <td>AIR RESOURCES BOARD</td>\n",
       "      <td>...</td>\n",
       "      <td>NaN</td>\n",
       "      <td>NaN</td>\n",
       "      <td>NaN</td>\n",
       "      <td>NaN</td>\n",
       "      <td>0.0</td>\n",
       "      <td>0.0</td>\n",
       "      <td>NaN</td>\n",
       "      <td>NaN</td>\n",
       "      <td>NaN</td>\n",
       "      <td>NaN</td>\n",
       "    </tr>\n",
       "    <tr>\n",
       "      <th>1075358</th>\n",
       "      <td>1311748</td>\n",
       "      <td>3000</td>\n",
       "      <td>3000</td>\n",
       "      <td>3000.0</td>\n",
       "      <td>60 months</td>\n",
       "      <td>12.69%</td>\n",
       "      <td>67.79</td>\n",
       "      <td>B</td>\n",
       "      <td>B5</td>\n",
       "      <td>University Medical Group</td>\n",
       "      <td>...</td>\n",
       "      <td>NaN</td>\n",
       "      <td>NaN</td>\n",
       "      <td>NaN</td>\n",
       "      <td>NaN</td>\n",
       "      <td>0.0</td>\n",
       "      <td>0.0</td>\n",
       "      <td>NaN</td>\n",
       "      <td>NaN</td>\n",
       "      <td>NaN</td>\n",
       "      <td>NaN</td>\n",
       "    </tr>\n",
       "  </tbody>\n",
       "</table>\n",
       "<p>5 rows × 110 columns</p>\n",
       "</div>"
      ],
      "text/plain": [
       "         member_id  loan_amnt  funded_amnt  funded_amnt_inv        term  \\\n",
       "id                                                                        \n",
       "1077501    1296599       5000         5000           4975.0   36 months   \n",
       "1077430    1314167       2500         2500           2500.0   60 months   \n",
       "1077175    1313524       2400         2400           2400.0   36 months   \n",
       "1076863    1277178      10000        10000          10000.0   36 months   \n",
       "1075358    1311748       3000         3000           3000.0   60 months   \n",
       "\n",
       "        int_rate  installment grade sub_grade                 emp_title  ...  \\\n",
       "id                                                                       ...   \n",
       "1077501   10.65%       162.87     B        B2                       NaN  ...   \n",
       "1077430   15.27%        59.83     C        C4                     Ryder  ...   \n",
       "1077175   15.96%        84.33     C        C5                       NaN  ...   \n",
       "1076863   13.49%       339.31     C        C1       AIR RESOURCES BOARD  ...   \n",
       "1075358   12.69%        67.79     B        B5  University Medical Group  ...   \n",
       "\n",
       "        num_tl_90g_dpd_24m num_tl_op_past_12m  pct_tl_nvr_dlq  \\\n",
       "id                                                              \n",
       "1077501                NaN                NaN             NaN   \n",
       "1077430                NaN                NaN             NaN   \n",
       "1077175                NaN                NaN             NaN   \n",
       "1076863                NaN                NaN             NaN   \n",
       "1075358                NaN                NaN             NaN   \n",
       "\n",
       "        percent_bc_gt_75 pub_rec_bankruptcies tax_liens tot_hi_cred_lim  \\\n",
       "id                                                                        \n",
       "1077501              NaN                  0.0       0.0             NaN   \n",
       "1077430              NaN                  0.0       0.0             NaN   \n",
       "1077175              NaN                  0.0       0.0             NaN   \n",
       "1076863              NaN                  0.0       0.0             NaN   \n",
       "1075358              NaN                  0.0       0.0             NaN   \n",
       "\n",
       "        total_bal_ex_mort total_bc_limit total_il_high_credit_limit  \n",
       "id                                                                   \n",
       "1077501               NaN            NaN                        NaN  \n",
       "1077430               NaN            NaN                        NaN  \n",
       "1077175               NaN            NaN                        NaN  \n",
       "1076863               NaN            NaN                        NaN  \n",
       "1075358               NaN            NaN                        NaN  \n",
       "\n",
       "[5 rows x 110 columns]"
      ]
     },
     "execution_count": 168,
     "metadata": {},
     "output_type": "execute_result"
    }
   ],
   "source": [
    "#Looking the data\n",
    "df_Len_club.head()"
   ]
  },
  {
   "cell_type": "markdown",
   "metadata": {},
   "source": [
    "### Check the shape of the dataframe"
   ]
  },
  {
   "cell_type": "code",
   "execution_count": 169,
   "metadata": {},
   "outputs": [
    {
     "data": {
      "text/plain": [
       "(39717, 110)"
      ]
     },
     "execution_count": 169,
     "metadata": {},
     "output_type": "execute_result"
    }
   ],
   "source": [
    "df_Len_club.shape"
   ]
  },
  {
   "cell_type": "markdown",
   "metadata": {
    "colab": {
     "base_uri": "https://localhost:8080/",
     "height": 206
    },
    "id": "Dl1JL4IJFDwe",
    "outputId": "263796d9-49f8-4b6c-e095-5174e129c471"
   },
   "source": [
    "## Understaing Sample provided lending Club loan data"
   ]
  },
  {
   "cell_type": "code",
   "execution_count": 170,
   "metadata": {},
   "outputs": [
    {
     "name": "stdout",
     "output_type": "stream",
     "text": [
      "<class 'pandas.core.frame.DataFrame'>\n",
      "Int64Index: 39717 entries, 1077501 to 87023\n",
      "Data columns (total 110 columns):\n",
      " #    Column                          Non-Null Count  Dtype  \n",
      "---   ------                          --------------  -----  \n",
      " 0    member_id                       39717 non-null  int64  \n",
      " 1    loan_amnt                       39717 non-null  int64  \n",
      " 2    funded_amnt                     39717 non-null  int64  \n",
      " 3    funded_amnt_inv                 39717 non-null  float64\n",
      " 4    term                            39717 non-null  object \n",
      " 5    int_rate                        39717 non-null  object \n",
      " 6    installment                     39717 non-null  float64\n",
      " 7    grade                           39717 non-null  object \n",
      " 8    sub_grade                       39717 non-null  object \n",
      " 9    emp_title                       37258 non-null  object \n",
      " 10   emp_length                      38642 non-null  object \n",
      " 11   home_ownership                  39717 non-null  object \n",
      " 12   annual_inc                      39717 non-null  float64\n",
      " 13   verification_status             39717 non-null  object \n",
      " 14   issue_d                         39717 non-null  object \n",
      " 15   loan_status                     39717 non-null  object \n",
      " 16   pymnt_plan                      39717 non-null  object \n",
      " 17   url                             39717 non-null  object \n",
      " 18   desc                            26777 non-null  object \n",
      " 19   purpose                         39717 non-null  object \n",
      " 20   title                           39706 non-null  object \n",
      " 21   zip_code                        39717 non-null  object \n",
      " 22   addr_state                      39717 non-null  object \n",
      " 23   dti                             39717 non-null  float64\n",
      " 24   delinq_2yrs                     39717 non-null  int64  \n",
      " 25   earliest_cr_line                39717 non-null  object \n",
      " 26   inq_last_6mths                  39717 non-null  int64  \n",
      " 27   mths_since_last_delinq          14035 non-null  float64\n",
      " 28   mths_since_last_record          2786 non-null   float64\n",
      " 29   open_acc                        39717 non-null  int64  \n",
      " 30   pub_rec                         39717 non-null  int64  \n",
      " 31   revol_bal                       39717 non-null  int64  \n",
      " 32   revol_util                      39667 non-null  object \n",
      " 33   total_acc                       39717 non-null  int64  \n",
      " 34   initial_list_status             39717 non-null  object \n",
      " 35   out_prncp                       39717 non-null  float64\n",
      " 36   out_prncp_inv                   39717 non-null  float64\n",
      " 37   total_pymnt                     39717 non-null  float64\n",
      " 38   total_pymnt_inv                 39717 non-null  float64\n",
      " 39   total_rec_prncp                 39717 non-null  float64\n",
      " 40   total_rec_int                   39717 non-null  float64\n",
      " 41   total_rec_late_fee              39717 non-null  float64\n",
      " 42   recoveries                      39717 non-null  float64\n",
      " 43   collection_recovery_fee         39717 non-null  float64\n",
      " 44   last_pymnt_d                    39646 non-null  object \n",
      " 45   last_pymnt_amnt                 39717 non-null  float64\n",
      " 46   next_pymnt_d                    1140 non-null   object \n",
      " 47   last_credit_pull_d              39715 non-null  object \n",
      " 48   collections_12_mths_ex_med      39661 non-null  float64\n",
      " 49   mths_since_last_major_derog     0 non-null      float64\n",
      " 50   policy_code                     39717 non-null  int64  \n",
      " 51   application_type                39717 non-null  object \n",
      " 52   annual_inc_joint                0 non-null      float64\n",
      " 53   dti_joint                       0 non-null      float64\n",
      " 54   verification_status_joint       0 non-null      float64\n",
      " 55   acc_now_delinq                  39717 non-null  int64  \n",
      " 56   tot_coll_amt                    0 non-null      float64\n",
      " 57   tot_cur_bal                     0 non-null      float64\n",
      " 58   open_acc_6m                     0 non-null      float64\n",
      " 59   open_il_6m                      0 non-null      float64\n",
      " 60   open_il_12m                     0 non-null      float64\n",
      " 61   open_il_24m                     0 non-null      float64\n",
      " 62   mths_since_rcnt_il              0 non-null      float64\n",
      " 63   total_bal_il                    0 non-null      float64\n",
      " 64   il_util                         0 non-null      float64\n",
      " 65   open_rv_12m                     0 non-null      float64\n",
      " 66   open_rv_24m                     0 non-null      float64\n",
      " 67   max_bal_bc                      0 non-null      float64\n",
      " 68   all_util                        0 non-null      float64\n",
      " 69   total_rev_hi_lim                0 non-null      float64\n",
      " 70   inq_fi                          0 non-null      float64\n",
      " 71   total_cu_tl                     0 non-null      float64\n",
      " 72   inq_last_12m                    0 non-null      float64\n",
      " 73   acc_open_past_24mths            0 non-null      float64\n",
      " 74   avg_cur_bal                     0 non-null      float64\n",
      " 75   bc_open_to_buy                  0 non-null      float64\n",
      " 76   bc_util                         0 non-null      float64\n",
      " 77   chargeoff_within_12_mths        39661 non-null  float64\n",
      " 78   delinq_amnt                     39717 non-null  int64  \n",
      " 79   mo_sin_old_il_acct              0 non-null      float64\n",
      " 80   mo_sin_old_rev_tl_op            0 non-null      float64\n",
      " 81   mo_sin_rcnt_rev_tl_op           0 non-null      float64\n",
      " 82   mo_sin_rcnt_tl                  0 non-null      float64\n",
      " 83   mort_acc                        0 non-null      float64\n",
      " 84   mths_since_recent_bc            0 non-null      float64\n",
      " 85   mths_since_recent_bc_dlq        0 non-null      float64\n",
      " 86   mths_since_recent_inq           0 non-null      float64\n",
      " 87   mths_since_recent_revol_delinq  0 non-null      float64\n",
      " 88   num_accts_ever_120_pd           0 non-null      float64\n",
      " 89   num_actv_bc_tl                  0 non-null      float64\n",
      " 90   num_actv_rev_tl                 0 non-null      float64\n",
      " 91   num_bc_sats                     0 non-null      float64\n",
      " 92   num_bc_tl                       0 non-null      float64\n",
      " 93   num_il_tl                       0 non-null      float64\n",
      " 94   num_op_rev_tl                   0 non-null      float64\n",
      " 95   num_rev_accts                   0 non-null      float64\n",
      " 96   num_rev_tl_bal_gt_0             0 non-null      float64\n",
      " 97   num_sats                        0 non-null      float64\n",
      " 98   num_tl_120dpd_2m                0 non-null      float64\n",
      " 99   num_tl_30dpd                    0 non-null      float64\n",
      " 100  num_tl_90g_dpd_24m              0 non-null      float64\n",
      " 101  num_tl_op_past_12m              0 non-null      float64\n",
      " 102  pct_tl_nvr_dlq                  0 non-null      float64\n",
      " 103  percent_bc_gt_75                0 non-null      float64\n",
      " 104  pub_rec_bankruptcies            39020 non-null  float64\n",
      " 105  tax_liens                       39678 non-null  float64\n",
      " 106  tot_hi_cred_lim                 0 non-null      float64\n",
      " 107  total_bal_ex_mort               0 non-null      float64\n",
      " 108  total_bc_limit                  0 non-null      float64\n",
      " 109  total_il_high_credit_limit      0 non-null      float64\n",
      "dtypes: float64(74), int64(12), object(24)\n",
      "memory usage: 33.6+ MB\n"
     ]
    }
   ],
   "source": [
    "df_Len_club.info(verbose=True, show_counts=True)"
   ]
  },
  {
   "cell_type": "code",
   "execution_count": 171,
   "metadata": {},
   "outputs": [
    {
     "data": {
      "text/html": [
       "<div>\n",
       "<style scoped>\n",
       "    .dataframe tbody tr th:only-of-type {\n",
       "        vertical-align: middle;\n",
       "    }\n",
       "\n",
       "    .dataframe tbody tr th {\n",
       "        vertical-align: top;\n",
       "    }\n",
       "\n",
       "    .dataframe thead th {\n",
       "        text-align: right;\n",
       "    }\n",
       "</style>\n",
       "<table border=\"1\" class=\"dataframe\">\n",
       "  <thead>\n",
       "    <tr style=\"text-align: right;\">\n",
       "      <th></th>\n",
       "      <th>member_id</th>\n",
       "      <th>loan_amnt</th>\n",
       "      <th>funded_amnt</th>\n",
       "      <th>funded_amnt_inv</th>\n",
       "      <th>installment</th>\n",
       "      <th>annual_inc</th>\n",
       "      <th>dti</th>\n",
       "      <th>delinq_2yrs</th>\n",
       "      <th>inq_last_6mths</th>\n",
       "      <th>mths_since_last_delinq</th>\n",
       "      <th>...</th>\n",
       "      <th>num_tl_90g_dpd_24m</th>\n",
       "      <th>num_tl_op_past_12m</th>\n",
       "      <th>pct_tl_nvr_dlq</th>\n",
       "      <th>percent_bc_gt_75</th>\n",
       "      <th>pub_rec_bankruptcies</th>\n",
       "      <th>tax_liens</th>\n",
       "      <th>tot_hi_cred_lim</th>\n",
       "      <th>total_bal_ex_mort</th>\n",
       "      <th>total_bc_limit</th>\n",
       "      <th>total_il_high_credit_limit</th>\n",
       "    </tr>\n",
       "  </thead>\n",
       "  <tbody>\n",
       "    <tr>\n",
       "      <th>count</th>\n",
       "      <td>3.971700e+04</td>\n",
       "      <td>39717.000000</td>\n",
       "      <td>39717.000000</td>\n",
       "      <td>39717.000000</td>\n",
       "      <td>39717.000000</td>\n",
       "      <td>3.971700e+04</td>\n",
       "      <td>39717.000000</td>\n",
       "      <td>39717.000000</td>\n",
       "      <td>39717.000000</td>\n",
       "      <td>14035.000000</td>\n",
       "      <td>...</td>\n",
       "      <td>0.0</td>\n",
       "      <td>0.0</td>\n",
       "      <td>0.0</td>\n",
       "      <td>0.0</td>\n",
       "      <td>39020.000000</td>\n",
       "      <td>39678.0</td>\n",
       "      <td>0.0</td>\n",
       "      <td>0.0</td>\n",
       "      <td>0.0</td>\n",
       "      <td>0.0</td>\n",
       "    </tr>\n",
       "    <tr>\n",
       "      <th>mean</th>\n",
       "      <td>8.504636e+05</td>\n",
       "      <td>11219.443815</td>\n",
       "      <td>10947.713196</td>\n",
       "      <td>10397.448868</td>\n",
       "      <td>324.561922</td>\n",
       "      <td>6.896893e+04</td>\n",
       "      <td>13.315130</td>\n",
       "      <td>0.146512</td>\n",
       "      <td>0.869200</td>\n",
       "      <td>35.900962</td>\n",
       "      <td>...</td>\n",
       "      <td>NaN</td>\n",
       "      <td>NaN</td>\n",
       "      <td>NaN</td>\n",
       "      <td>NaN</td>\n",
       "      <td>0.043260</td>\n",
       "      <td>0.0</td>\n",
       "      <td>NaN</td>\n",
       "      <td>NaN</td>\n",
       "      <td>NaN</td>\n",
       "      <td>NaN</td>\n",
       "    </tr>\n",
       "    <tr>\n",
       "      <th>std</th>\n",
       "      <td>2.656783e+05</td>\n",
       "      <td>7456.670694</td>\n",
       "      <td>7187.238670</td>\n",
       "      <td>7128.450439</td>\n",
       "      <td>208.874874</td>\n",
       "      <td>6.379377e+04</td>\n",
       "      <td>6.678594</td>\n",
       "      <td>0.491812</td>\n",
       "      <td>1.070219</td>\n",
       "      <td>22.020060</td>\n",
       "      <td>...</td>\n",
       "      <td>NaN</td>\n",
       "      <td>NaN</td>\n",
       "      <td>NaN</td>\n",
       "      <td>NaN</td>\n",
       "      <td>0.204324</td>\n",
       "      <td>0.0</td>\n",
       "      <td>NaN</td>\n",
       "      <td>NaN</td>\n",
       "      <td>NaN</td>\n",
       "      <td>NaN</td>\n",
       "    </tr>\n",
       "    <tr>\n",
       "      <th>min</th>\n",
       "      <td>7.069900e+04</td>\n",
       "      <td>500.000000</td>\n",
       "      <td>500.000000</td>\n",
       "      <td>0.000000</td>\n",
       "      <td>15.690000</td>\n",
       "      <td>4.000000e+03</td>\n",
       "      <td>0.000000</td>\n",
       "      <td>0.000000</td>\n",
       "      <td>0.000000</td>\n",
       "      <td>0.000000</td>\n",
       "      <td>...</td>\n",
       "      <td>NaN</td>\n",
       "      <td>NaN</td>\n",
       "      <td>NaN</td>\n",
       "      <td>NaN</td>\n",
       "      <td>0.000000</td>\n",
       "      <td>0.0</td>\n",
       "      <td>NaN</td>\n",
       "      <td>NaN</td>\n",
       "      <td>NaN</td>\n",
       "      <td>NaN</td>\n",
       "    </tr>\n",
       "    <tr>\n",
       "      <th>25%</th>\n",
       "      <td>6.667800e+05</td>\n",
       "      <td>5500.000000</td>\n",
       "      <td>5400.000000</td>\n",
       "      <td>5000.000000</td>\n",
       "      <td>167.020000</td>\n",
       "      <td>4.040400e+04</td>\n",
       "      <td>8.170000</td>\n",
       "      <td>0.000000</td>\n",
       "      <td>0.000000</td>\n",
       "      <td>18.000000</td>\n",
       "      <td>...</td>\n",
       "      <td>NaN</td>\n",
       "      <td>NaN</td>\n",
       "      <td>NaN</td>\n",
       "      <td>NaN</td>\n",
       "      <td>0.000000</td>\n",
       "      <td>0.0</td>\n",
       "      <td>NaN</td>\n",
       "      <td>NaN</td>\n",
       "      <td>NaN</td>\n",
       "      <td>NaN</td>\n",
       "    </tr>\n",
       "    <tr>\n",
       "      <th>50%</th>\n",
       "      <td>8.508120e+05</td>\n",
       "      <td>10000.000000</td>\n",
       "      <td>9600.000000</td>\n",
       "      <td>8975.000000</td>\n",
       "      <td>280.220000</td>\n",
       "      <td>5.900000e+04</td>\n",
       "      <td>13.400000</td>\n",
       "      <td>0.000000</td>\n",
       "      <td>1.000000</td>\n",
       "      <td>34.000000</td>\n",
       "      <td>...</td>\n",
       "      <td>NaN</td>\n",
       "      <td>NaN</td>\n",
       "      <td>NaN</td>\n",
       "      <td>NaN</td>\n",
       "      <td>0.000000</td>\n",
       "      <td>0.0</td>\n",
       "      <td>NaN</td>\n",
       "      <td>NaN</td>\n",
       "      <td>NaN</td>\n",
       "      <td>NaN</td>\n",
       "    </tr>\n",
       "    <tr>\n",
       "      <th>75%</th>\n",
       "      <td>1.047339e+06</td>\n",
       "      <td>15000.000000</td>\n",
       "      <td>15000.000000</td>\n",
       "      <td>14400.000000</td>\n",
       "      <td>430.780000</td>\n",
       "      <td>8.230000e+04</td>\n",
       "      <td>18.600000</td>\n",
       "      <td>0.000000</td>\n",
       "      <td>1.000000</td>\n",
       "      <td>52.000000</td>\n",
       "      <td>...</td>\n",
       "      <td>NaN</td>\n",
       "      <td>NaN</td>\n",
       "      <td>NaN</td>\n",
       "      <td>NaN</td>\n",
       "      <td>0.000000</td>\n",
       "      <td>0.0</td>\n",
       "      <td>NaN</td>\n",
       "      <td>NaN</td>\n",
       "      <td>NaN</td>\n",
       "      <td>NaN</td>\n",
       "    </tr>\n",
       "    <tr>\n",
       "      <th>max</th>\n",
       "      <td>1.314167e+06</td>\n",
       "      <td>35000.000000</td>\n",
       "      <td>35000.000000</td>\n",
       "      <td>35000.000000</td>\n",
       "      <td>1305.190000</td>\n",
       "      <td>6.000000e+06</td>\n",
       "      <td>29.990000</td>\n",
       "      <td>11.000000</td>\n",
       "      <td>8.000000</td>\n",
       "      <td>120.000000</td>\n",
       "      <td>...</td>\n",
       "      <td>NaN</td>\n",
       "      <td>NaN</td>\n",
       "      <td>NaN</td>\n",
       "      <td>NaN</td>\n",
       "      <td>2.000000</td>\n",
       "      <td>0.0</td>\n",
       "      <td>NaN</td>\n",
       "      <td>NaN</td>\n",
       "      <td>NaN</td>\n",
       "      <td>NaN</td>\n",
       "    </tr>\n",
       "  </tbody>\n",
       "</table>\n",
       "<p>8 rows × 86 columns</p>\n",
       "</div>"
      ],
      "text/plain": [
       "          member_id     loan_amnt   funded_amnt  funded_amnt_inv  \\\n",
       "count  3.971700e+04  39717.000000  39717.000000     39717.000000   \n",
       "mean   8.504636e+05  11219.443815  10947.713196     10397.448868   \n",
       "std    2.656783e+05   7456.670694   7187.238670      7128.450439   \n",
       "min    7.069900e+04    500.000000    500.000000         0.000000   \n",
       "25%    6.667800e+05   5500.000000   5400.000000      5000.000000   \n",
       "50%    8.508120e+05  10000.000000   9600.000000      8975.000000   \n",
       "75%    1.047339e+06  15000.000000  15000.000000     14400.000000   \n",
       "max    1.314167e+06  35000.000000  35000.000000     35000.000000   \n",
       "\n",
       "        installment    annual_inc           dti   delinq_2yrs  inq_last_6mths  \\\n",
       "count  39717.000000  3.971700e+04  39717.000000  39717.000000    39717.000000   \n",
       "mean     324.561922  6.896893e+04     13.315130      0.146512        0.869200   \n",
       "std      208.874874  6.379377e+04      6.678594      0.491812        1.070219   \n",
       "min       15.690000  4.000000e+03      0.000000      0.000000        0.000000   \n",
       "25%      167.020000  4.040400e+04      8.170000      0.000000        0.000000   \n",
       "50%      280.220000  5.900000e+04     13.400000      0.000000        1.000000   \n",
       "75%      430.780000  8.230000e+04     18.600000      0.000000        1.000000   \n",
       "max     1305.190000  6.000000e+06     29.990000     11.000000        8.000000   \n",
       "\n",
       "       mths_since_last_delinq  ...  num_tl_90g_dpd_24m  num_tl_op_past_12m  \\\n",
       "count            14035.000000  ...                 0.0                 0.0   \n",
       "mean                35.900962  ...                 NaN                 NaN   \n",
       "std                 22.020060  ...                 NaN                 NaN   \n",
       "min                  0.000000  ...                 NaN                 NaN   \n",
       "25%                 18.000000  ...                 NaN                 NaN   \n",
       "50%                 34.000000  ...                 NaN                 NaN   \n",
       "75%                 52.000000  ...                 NaN                 NaN   \n",
       "max                120.000000  ...                 NaN                 NaN   \n",
       "\n",
       "       pct_tl_nvr_dlq  percent_bc_gt_75  pub_rec_bankruptcies  tax_liens  \\\n",
       "count             0.0               0.0          39020.000000    39678.0   \n",
       "mean              NaN               NaN              0.043260        0.0   \n",
       "std               NaN               NaN              0.204324        0.0   \n",
       "min               NaN               NaN              0.000000        0.0   \n",
       "25%               NaN               NaN              0.000000        0.0   \n",
       "50%               NaN               NaN              0.000000        0.0   \n",
       "75%               NaN               NaN              0.000000        0.0   \n",
       "max               NaN               NaN              2.000000        0.0   \n",
       "\n",
       "       tot_hi_cred_lim  total_bal_ex_mort  total_bc_limit  \\\n",
       "count              0.0                0.0             0.0   \n",
       "mean               NaN                NaN             NaN   \n",
       "std                NaN                NaN             NaN   \n",
       "min                NaN                NaN             NaN   \n",
       "25%                NaN                NaN             NaN   \n",
       "50%                NaN                NaN             NaN   \n",
       "75%                NaN                NaN             NaN   \n",
       "max                NaN                NaN             NaN   \n",
       "\n",
       "       total_il_high_credit_limit  \n",
       "count                         0.0  \n",
       "mean                          NaN  \n",
       "std                           NaN  \n",
       "min                           NaN  \n",
       "25%                           NaN  \n",
       "50%                           NaN  \n",
       "75%                           NaN  \n",
       "max                           NaN  \n",
       "\n",
       "[8 rows x 86 columns]"
      ]
     },
     "execution_count": 171,
     "metadata": {},
     "output_type": "execute_result"
    }
   ],
   "source": [
    "df_Len_club.describe()"
   ]
  },
  {
   "cell_type": "code",
   "execution_count": 172,
   "metadata": {},
   "outputs": [
    {
     "data": {
      "text/plain": [
       "member_id                         0\n",
       "loan_amnt                         0\n",
       "funded_amnt                       0\n",
       "funded_amnt_inv                   0\n",
       "term                              0\n",
       "                              ...  \n",
       "tax_liens                        39\n",
       "tot_hi_cred_lim               39717\n",
       "total_bal_ex_mort             39717\n",
       "total_bc_limit                39717\n",
       "total_il_high_credit_limit    39717\n",
       "Length: 110, dtype: int64"
      ]
     },
     "execution_count": 172,
     "metadata": {},
     "output_type": "execute_result"
    }
   ],
   "source": [
    "# Verifiying null /emty values\n",
    "df_Len_club.isnull().sum()"
   ]
  },
  {
   "cell_type": "code",
   "execution_count": 173,
   "metadata": {},
   "outputs": [],
   "source": [
    "empty_cols = [col for col in df_Len_club.columns if df_Len_club[col].isnull().all()]"
   ]
  },
  {
   "cell_type": "code",
   "execution_count": 174,
   "metadata": {},
   "outputs": [
    {
     "data": {
      "text/plain": [
       "['mths_since_last_major_derog',\n",
       " 'annual_inc_joint',\n",
       " 'dti_joint',\n",
       " 'verification_status_joint',\n",
       " 'tot_coll_amt',\n",
       " 'tot_cur_bal',\n",
       " 'open_acc_6m',\n",
       " 'open_il_6m',\n",
       " 'open_il_12m',\n",
       " 'open_il_24m',\n",
       " 'mths_since_rcnt_il',\n",
       " 'total_bal_il',\n",
       " 'il_util',\n",
       " 'open_rv_12m',\n",
       " 'open_rv_24m',\n",
       " 'max_bal_bc',\n",
       " 'all_util',\n",
       " 'total_rev_hi_lim',\n",
       " 'inq_fi',\n",
       " 'total_cu_tl',\n",
       " 'inq_last_12m',\n",
       " 'acc_open_past_24mths',\n",
       " 'avg_cur_bal',\n",
       " 'bc_open_to_buy',\n",
       " 'bc_util',\n",
       " 'mo_sin_old_il_acct',\n",
       " 'mo_sin_old_rev_tl_op',\n",
       " 'mo_sin_rcnt_rev_tl_op',\n",
       " 'mo_sin_rcnt_tl',\n",
       " 'mort_acc',\n",
       " 'mths_since_recent_bc',\n",
       " 'mths_since_recent_bc_dlq',\n",
       " 'mths_since_recent_inq',\n",
       " 'mths_since_recent_revol_delinq',\n",
       " 'num_accts_ever_120_pd',\n",
       " 'num_actv_bc_tl',\n",
       " 'num_actv_rev_tl',\n",
       " 'num_bc_sats',\n",
       " 'num_bc_tl',\n",
       " 'num_il_tl',\n",
       " 'num_op_rev_tl',\n",
       " 'num_rev_accts',\n",
       " 'num_rev_tl_bal_gt_0',\n",
       " 'num_sats',\n",
       " 'num_tl_120dpd_2m',\n",
       " 'num_tl_30dpd',\n",
       " 'num_tl_90g_dpd_24m',\n",
       " 'num_tl_op_past_12m',\n",
       " 'pct_tl_nvr_dlq',\n",
       " 'percent_bc_gt_75',\n",
       " 'tot_hi_cred_lim',\n",
       " 'total_bal_ex_mort',\n",
       " 'total_bc_limit',\n",
       " 'total_il_high_credit_limit']"
      ]
     },
     "execution_count": 174,
     "metadata": {},
     "output_type": "execute_result"
    }
   ],
   "source": [
    "empty_cols"
   ]
  },
  {
   "cell_type": "markdown",
   "metadata": {},
   "source": [
    "## Data Cleaning and Manipulation/missing value handling "
   ]
  },
  {
   "cell_type": "code",
   "execution_count": 175,
   "metadata": {},
   "outputs": [],
   "source": [
    "df_Len_club.drop(empty_cols,axis = 1 , inplace = True)"
   ]
  },
  {
   "cell_type": "code",
   "execution_count": 176,
   "metadata": {},
   "outputs": [
    {
     "data": {
      "text/plain": [
       "(39717, 56)"
      ]
     },
     "execution_count": 176,
     "metadata": {},
     "output_type": "execute_result"
    }
   ],
   "source": [
    "#Verifing if all the Emty columns are deleted\n",
    "df_Len_club.shape"
   ]
  },
  {
   "cell_type": "code",
   "execution_count": 177,
   "metadata": {},
   "outputs": [],
   "source": [
    "empty_cols = [col for col in df_Len_club.columns if df_Len_club[col].isnull().all()]"
   ]
  },
  {
   "cell_type": "code",
   "execution_count": 179,
   "metadata": {},
   "outputs": [
    {
     "data": {
      "text/plain": [
       "[]"
      ]
     },
     "execution_count": 179,
     "metadata": {},
     "output_type": "execute_result"
    }
   ],
   "source": [
    "empty_cols"
   ]
  },
  {
   "cell_type": "markdown",
   "metadata": {},
   "source": [
    "### Find the Percentage of missing values"
   ]
  },
  {
   "cell_type": "code",
   "execution_count": 181,
   "metadata": {},
   "outputs": [
    {
     "data": {
      "text/plain": [
       "next_pymnt_d                  97.13\n",
       "mths_since_last_record        92.99\n",
       "mths_since_last_delinq        64.66\n",
       "desc                          32.58\n",
       "emp_title                      6.19\n",
       "emp_length                     2.71\n",
       "pub_rec_bankruptcies           1.75\n",
       "last_pymnt_d                   0.18\n",
       "chargeoff_within_12_mths       0.14\n",
       "collections_12_mths_ex_med     0.14\n",
       "revol_util                     0.13\n",
       "tax_liens                      0.10\n",
       "title                          0.03\n",
       "last_credit_pull_d             0.01\n",
       "annual_inc                     0.00\n",
       "last_pymnt_amnt                0.00\n",
       "total_pymnt                    0.00\n",
       "total_pymnt_inv                0.00\n",
       "total_rec_prncp                0.00\n",
       "total_rec_int                  0.00\n",
       "total_rec_late_fee             0.00\n",
       "recoveries                     0.00\n",
       "collection_recovery_fee        0.00\n",
       "installment                    0.00\n",
       "int_rate                       0.00\n",
       "out_prncp                      0.00\n",
       "term                           0.00\n",
       "policy_code                    0.00\n",
       "application_type               0.00\n",
       "acc_now_delinq                 0.00\n",
       "funded_amnt_inv                0.00\n",
       "delinq_amnt                    0.00\n",
       "funded_amnt                    0.00\n",
       "out_prncp_inv                  0.00\n",
       "initial_list_status            0.00\n",
       "verification_status            0.00\n",
       "dti                            0.00\n",
       "issue_d                        0.00\n",
       "loan_status                    0.00\n",
       "pymnt_plan                     0.00\n",
       "url                            0.00\n",
       "home_ownership                 0.00\n",
       "purpose                        0.00\n",
       "zip_code                       0.00\n",
       "addr_state                     0.00\n",
       "delinq_2yrs                    0.00\n",
       "total_acc                      0.00\n",
       "earliest_cr_line               0.00\n",
       "inq_last_6mths                 0.00\n",
       "sub_grade                      0.00\n",
       "loan_amnt                      0.00\n",
       "open_acc                       0.00\n",
       "pub_rec                        0.00\n",
       "revol_bal                      0.00\n",
       "grade                          0.00\n",
       "member_id                      0.00\n",
       "dtype: float64"
      ]
     },
     "execution_count": 181,
     "metadata": {},
     "output_type": "execute_result"
    }
   ],
   "source": [
    "round((100*df_Len_club.isnull().sum() / len(df_Len_club)).sort_values(ascending = False), 2)\n"
   ]
  },
  {
   "cell_type": "markdown",
   "metadata": {},
   "source": [
    "### Deleting Columns null value percentage is more than 60%"
   ]
  },
  {
   "cell_type": "code",
   "execution_count": 182,
   "metadata": {},
   "outputs": [],
   "source": [
    "dropColList = ['next_pymnt_d', 'mths_since_last_record', 'mths_since_last_delinq']\n",
    "df_Len_club = df_Len_club.drop(dropColList, axis=1)"
   ]
  },
  {
   "cell_type": "code",
   "execution_count": 183,
   "metadata": {},
   "outputs": [
    {
     "data": {
      "text/plain": [
       "desc                          32.58\n",
       "emp_title                      6.19\n",
       "emp_length                     2.71\n",
       "pub_rec_bankruptcies           1.75\n",
       "last_pymnt_d                   0.18\n",
       "collections_12_mths_ex_med     0.14\n",
       "chargeoff_within_12_mths       0.14\n",
       "revol_util                     0.13\n",
       "tax_liens                      0.10\n",
       "title                          0.03\n",
       "last_credit_pull_d             0.01\n",
       "policy_code                    0.00\n",
       "total_rec_prncp                0.00\n",
       "total_acc                      0.00\n",
       "initial_list_status            0.00\n",
       "out_prncp                      0.00\n",
       "out_prncp_inv                  0.00\n",
       "total_pymnt                    0.00\n",
       "total_pymnt_inv                0.00\n",
       "delinq_amnt                    0.00\n",
       "application_type               0.00\n",
       "total_rec_int                  0.00\n",
       "total_rec_late_fee             0.00\n",
       "recoveries                     0.00\n",
       "revol_bal                      0.00\n",
       "acc_now_delinq                 0.00\n",
       "last_pymnt_amnt                0.00\n",
       "collection_recovery_fee        0.00\n",
       "member_id                      0.00\n",
       "pub_rec                        0.00\n",
       "open_acc                       0.00\n",
       "funded_amnt                    0.00\n",
       "funded_amnt_inv                0.00\n",
       "term                           0.00\n",
       "int_rate                       0.00\n",
       "installment                    0.00\n",
       "grade                          0.00\n",
       "sub_grade                      0.00\n",
       "home_ownership                 0.00\n",
       "annual_inc                     0.00\n",
       "verification_status            0.00\n",
       "issue_d                        0.00\n",
       "loan_status                    0.00\n",
       "pymnt_plan                     0.00\n",
       "url                            0.00\n",
       "purpose                        0.00\n",
       "zip_code                       0.00\n",
       "addr_state                     0.00\n",
       "dti                            0.00\n",
       "delinq_2yrs                    0.00\n",
       "earliest_cr_line               0.00\n",
       "loan_amnt                      0.00\n",
       "inq_last_6mths                 0.00\n",
       "dtype: float64"
      ]
     },
     "execution_count": 183,
     "metadata": {},
     "output_type": "execute_result"
    }
   ],
   "source": [
    "# Verify if the columns 'next_pymnt_d', 'mths_since_last_record', 'mths_since_last_delinq' are delted \n",
    "\n",
    "round((100*df_Len_club.isnull().sum() / len(df_Len_club)).sort_values(ascending = False), 2)"
   ]
  },
  {
   "cell_type": "markdown",
   "metadata": {},
   "source": [
    "### Deleting Customer Behavioral columns/variables"
   ]
  },
  {
   "cell_type": "code",
   "execution_count": 187,
   "metadata": {},
   "outputs": [],
   "source": [
    "dropColList=['delinq_2yrs','earliest_cr_line','inq_last_6mths','open_acc','pub_rec','revol_bal','out_prncp','out_prncp_inv','total_pymnt','total_pymnt_inv','total_rec_prncp','total_rec_int','total_rec_late_fee','recoveries','collection_recovery_fee','last_pymnt_d','last_pymnt_amnt','last_credit_pull_d','application_type']\n",
    "df_Len_club = df_Len_club.drop(dropColList, axis=1)"
   ]
  },
  {
   "cell_type": "code",
   "execution_count": 188,
   "metadata": {},
   "outputs": [
    {
     "data": {
      "text/plain": [
       "(39717, 34)"
      ]
     },
     "execution_count": 188,
     "metadata": {},
     "output_type": "execute_result"
    }
   ],
   "source": [
    "#Verify if columns are deleted \n",
    "df_Len_club.shape"
   ]
  },
  {
   "cell_type": "code",
   "execution_count": 189,
   "metadata": {},
   "outputs": [
    {
     "data": {
      "text/plain": [
       "desc                          32.58\n",
       "emp_title                      6.19\n",
       "emp_length                     2.71\n",
       "pub_rec_bankruptcies           1.75\n",
       "collections_12_mths_ex_med     0.14\n",
       "chargeoff_within_12_mths       0.14\n",
       "revol_util                     0.13\n",
       "tax_liens                      0.10\n",
       "title                          0.03\n",
       "initial_list_status            0.00\n",
       "policy_code                    0.00\n",
       "acc_now_delinq                 0.00\n",
       "total_acc                      0.00\n",
       "delinq_amnt                    0.00\n",
       "dti                            0.00\n",
       "addr_state                     0.00\n",
       "zip_code                       0.00\n",
       "purpose                        0.00\n",
       "member_id                      0.00\n",
       "loan_amnt                      0.00\n",
       "pymnt_plan                     0.00\n",
       "loan_status                    0.00\n",
       "issue_d                        0.00\n",
       "verification_status            0.00\n",
       "annual_inc                     0.00\n",
       "home_ownership                 0.00\n",
       "sub_grade                      0.00\n",
       "grade                          0.00\n",
       "installment                    0.00\n",
       "int_rate                       0.00\n",
       "term                           0.00\n",
       "funded_amnt_inv                0.00\n",
       "funded_amnt                    0.00\n",
       "url                            0.00\n",
       "dtype: float64"
      ]
     },
     "execution_count": 189,
     "metadata": {},
     "output_type": "execute_result"
    }
   ],
   "source": [
    "#Finding null values percentage\n",
    "round((100*df_Len_club.isnull().sum() / len(df_Len_club)).sort_values(ascending = False), 2)"
   ]
  },
  {
   "cell_type": "code",
   "execution_count": 191,
   "metadata": {},
   "outputs": [
    {
     "data": {
      "text/plain": [
       "count     26777\n",
       "unique    26527\n",
       "top            \n",
       "freq        210\n",
       "Name: desc, dtype: object"
      ]
     },
     "execution_count": 191,
     "metadata": {},
     "output_type": "execute_result"
    }
   ],
   "source": [
    "df_Len_club.desc.describe()                          "
   ]
  },
  {
   "cell_type": "code",
   "execution_count": 192,
   "metadata": {},
   "outputs": [
    {
     "data": {
      "text/plain": [
       "                                                                                                                                                                                                                                                                                                                                                                                                                                                                                                                                                                                                                                                                              210\n",
       "Debt Consolidation                                                                                                                                                                                                                                                                                                                                                                                                                                                                                                                                                                                                                                                              8\n",
       "Camping Membership                                                                                                                                                                                                                                                                                                                                                                                                                                                                                                                                                                                                                                                              6\n",
       "personal loan                                                                                                                                                                                                                                                                                                                                                                                                                                                                                                                                                                                                                                                                   3\n",
       "credit card consolidation                                                                                                                                                                                                                                                                                                                                                                                                                                                                                                                                                                                                                                                       3\n",
       "                                                                                                                                                                                                                                                                                                                                                                                                                                                                                                                                                                                                                                                                             ... \n",
       "  Borrower added on 05/13/11 > I have a very stable income and have &quot;NEVER&quot; been delinquent on any accounts. I am interested in consolidating my credit card accounts along with a personal loan for the benefit of paying one payment a month versus multiple. Thank you.<br/>                                                                                                                                                                                                                                                                                                                                                                                       1\n",
       "  Borrower added on 05/13/11 > This loan is to partially finance a car. The payments will be very manageable for me.<br/>                                                                                                                                                                                                                                                                                                                                                                                                                                                                                                                                                       1\n",
       "  Borrower added on 05/13/11 > I am consolidating my bills to make it cheaper on bills. I am up for a promotion at my job and have been here three years already. I also have a fiance that has a very reliable job who also helps with finances. My requirement is that all bills are paid on time if not early. This is to keep good standings with all businesses and keep a awesome credit score.<br/> Borrower added on 05/16/11 > I am asking for this loan to pay off bills with higher interest rates and have a lower payment every month.<br/>                                                                                                                        1\n",
       "  Borrower added on 05/13/11 > Debt Consolidation<br/> Borrower added on 05/13/11 > I plan to use this money to consolidate bills with high monthly payments and improve cash flow.<br/> Borrower added on 05/13/11 > I have good credit and I have a very stable, solid and professional job that I have held for a long time - over 20 years.  I have a Bachelor's degree and I'm currently working on a masters.<br/> Borrower added on 05/13/11 > My mortgage and utilities run approx less than 2k per month including taxes.  I have sufficient income to pay off this loan. I simply want to take my open accounts and consolidate them into one easy payment.<br/>      1\n",
       "I plan to consolidate over $7,000 of debt: a combination of credit cards and student loans.                                                                                                                                                                                                                                                                                                                                                                                                                                                                                                                                                                                     1\n",
       "Name: desc, Length: 26527, dtype: int64"
      ]
     },
     "execution_count": 192,
     "metadata": {},
     "output_type": "execute_result"
    }
   ],
   "source": [
    "df_Len_club.desc.value_counts() "
   ]
  },
  {
   "cell_type": "code",
   "execution_count": 193,
   "metadata": {},
   "outputs": [],
   "source": [
    "#Deletng the desc columns as it has description/commnets for loan details and not cosidering this column for analysis \n",
    "dropColList = ['desc']\n",
    "df_Len_club = df_Len_club.drop(dropColList, axis=1)"
   ]
  },
  {
   "cell_type": "code",
   "execution_count": 194,
   "metadata": {},
   "outputs": [
    {
     "data": {
      "text/plain": [
       "emp_title                     6.19\n",
       "emp_length                    2.71\n",
       "pub_rec_bankruptcies          1.75\n",
       "collections_12_mths_ex_med    0.14\n",
       "chargeoff_within_12_mths      0.14\n",
       "revol_util                    0.13\n",
       "tax_liens                     0.10\n",
       "title                         0.03\n",
       "purpose                       0.00\n",
       "policy_code                   0.00\n",
       "acc_now_delinq                0.00\n",
       "total_acc                     0.00\n",
       "delinq_amnt                   0.00\n",
       "dti                           0.00\n",
       "addr_state                    0.00\n",
       "zip_code                      0.00\n",
       "initial_list_status           0.00\n",
       "member_id                     0.00\n",
       "url                           0.00\n",
       "loan_amnt                     0.00\n",
       "loan_status                   0.00\n",
       "issue_d                       0.00\n",
       "verification_status           0.00\n",
       "annual_inc                    0.00\n",
       "home_ownership                0.00\n",
       "sub_grade                     0.00\n",
       "grade                         0.00\n",
       "installment                   0.00\n",
       "int_rate                      0.00\n",
       "term                          0.00\n",
       "funded_amnt_inv               0.00\n",
       "funded_amnt                   0.00\n",
       "pymnt_plan                    0.00\n",
       "dtype: float64"
      ]
     },
     "execution_count": 194,
     "metadata": {},
     "output_type": "execute_result"
    }
   ],
   "source": [
    "#Finding null values percentage\n",
    "round((100*df_Len_club.isnull().sum() / len(df_Len_club)).sort_values(ascending = False), 2)"
   ]
  },
  {
   "cell_type": "markdown",
   "metadata": {},
   "source": [
    "### Not taking any action on below columns as the null value percentage is lessthan 7 % and not considering these columns for analysis\n",
    "emp_title                     6.19\n",
    "emp_length                    2.71\n",
    "pub_rec_bankruptcies          1.75\n",
    "collections_12_mths_ex_med    0.14\n",
    "chargeoff_within_12_mths      0.14\n",
    "revol_util                    0.13\n",
    "tax_liens                     0.10\n",
    "title                         0.03"
   ]
  },
  {
   "cell_type": "markdown",
   "metadata": {},
   "source": [
    "### Not considering the Current loans for data analysis ,as this loans are still active"
   ]
  },
  {
   "cell_type": "code",
   "execution_count": 196,
   "metadata": {},
   "outputs": [
    {
     "data": {
      "text/plain": [
       "Fully Paid     32950\n",
       "Charged Off     5627\n",
       "Current         1140\n",
       "Name: loan_status, dtype: int64"
      ]
     },
     "execution_count": 196,
     "metadata": {},
     "output_type": "execute_result"
    }
   ],
   "source": [
    "#Find the values of loan status and there distribution\n",
    "df_Len_club.loan_status.value_counts()"
   ]
  },
  {
   "cell_type": "code",
   "execution_count": 198,
   "metadata": {},
   "outputs": [],
   "source": [
    "#Deleting the records for Current loan\n",
    "df_Len_club = df_Len_club[df_Len_club.loan_status != 'Current']\n"
   ]
  },
  {
   "cell_type": "code",
   "execution_count": 200,
   "metadata": {},
   "outputs": [
    {
     "data": {
      "text/plain": [
       "Fully Paid     32950\n",
       "Charged Off     5627\n",
       "Name: loan_status, dtype: int64"
      ]
     },
     "execution_count": 200,
     "metadata": {},
     "output_type": "execute_result"
    }
   ],
   "source": [
    "#Verify if the Current loan are removed\n",
    "df_Len_club.loan_status.value_counts()"
   ]
  },
  {
   "cell_type": "code",
   "execution_count": 201,
   "metadata": {},
   "outputs": [
    {
     "name": "stdout",
     "output_type": "stream",
     "text": [
      "<class 'pandas.core.frame.DataFrame'>\n",
      "Int64Index: 38577 entries, 1077501 to 87023\n",
      "Data columns (total 33 columns):\n",
      " #   Column                      Non-Null Count  Dtype  \n",
      "---  ------                      --------------  -----  \n",
      " 0   member_id                   38577 non-null  int64  \n",
      " 1   loan_amnt                   38577 non-null  int64  \n",
      " 2   funded_amnt                 38577 non-null  int64  \n",
      " 3   funded_amnt_inv             38577 non-null  float64\n",
      " 4   term                        38577 non-null  object \n",
      " 5   int_rate                    38577 non-null  object \n",
      " 6   installment                 38577 non-null  float64\n",
      " 7   grade                       38577 non-null  object \n",
      " 8   sub_grade                   38577 non-null  object \n",
      " 9   emp_title                   36191 non-null  object \n",
      " 10  emp_length                  37544 non-null  object \n",
      " 11  home_ownership              38577 non-null  object \n",
      " 12  annual_inc                  38577 non-null  float64\n",
      " 13  verification_status         38577 non-null  object \n",
      " 14  issue_d                     38577 non-null  object \n",
      " 15  loan_status                 38577 non-null  object \n",
      " 16  pymnt_plan                  38577 non-null  object \n",
      " 17  url                         38577 non-null  object \n",
      " 18  purpose                     38577 non-null  object \n",
      " 19  title                       38566 non-null  object \n",
      " 20  zip_code                    38577 non-null  object \n",
      " 21  addr_state                  38577 non-null  object \n",
      " 22  dti                         38577 non-null  float64\n",
      " 23  revol_util                  38527 non-null  object \n",
      " 24  total_acc                   38577 non-null  int64  \n",
      " 25  initial_list_status         38577 non-null  object \n",
      " 26  collections_12_mths_ex_med  38521 non-null  float64\n",
      " 27  policy_code                 38577 non-null  int64  \n",
      " 28  acc_now_delinq              38577 non-null  int64  \n",
      " 29  chargeoff_within_12_mths    38521 non-null  float64\n",
      " 30  delinq_amnt                 38577 non-null  int64  \n",
      " 31  pub_rec_bankruptcies        37880 non-null  float64\n",
      " 32  tax_liens                   38538 non-null  float64\n",
      "dtypes: float64(8), int64(7), object(18)\n",
      "memory usage: 10.0+ MB\n"
     ]
    }
   ],
   "source": [
    "df_Len_club.info()"
   ]
  },
  {
   "cell_type": "code",
   "execution_count": 202,
   "metadata": {},
   "outputs": [],
   "source": [
    "# Chnage the column name from term to term_months"
   ]
  },
  {
   "cell_type": "code",
   "execution_count": 203,
   "metadata": {},
   "outputs": [],
   "source": [
    "df_Len_club = df_Len_club.rename({'term': 'term_months'}, axis=1) \n"
   ]
  },
  {
   "cell_type": "code",
   "execution_count": 206,
   "metadata": {},
   "outputs": [],
   "source": [
    "#Remove months from Term_months data an dconvert to int type\n",
    "df_Len_club.term_months=df_Len_club.term_months.apply(lambda x: x[:-7])"
   ]
  },
  {
   "cell_type": "code",
   "execution_count": 208,
   "metadata": {},
   "outputs": [],
   "source": [
    "df_Len_club.term_months= df_Len_club.term_months.astype(\"int32\")\n"
   ]
  },
  {
   "cell_type": "code",
   "execution_count": 210,
   "metadata": {},
   "outputs": [
    {
     "data": {
      "text/plain": [
       "id\n",
       "1077501    36\n",
       "1077430    60\n",
       "1077175    36\n",
       "1076863    36\n",
       "1075269    36\n",
       "           ..\n",
       "92187      36\n",
       "90665      36\n",
       "90395      36\n",
       "90376      36\n",
       "87023      36\n",
       "Name: term_months, Length: 38577, dtype: int32"
      ]
     },
     "execution_count": 210,
     "metadata": {},
     "output_type": "execute_result"
    }
   ],
   "source": [
    "df_Len_club.term_months"
   ]
  },
  {
   "cell_type": "code",
   "execution_count": 211,
   "metadata": {},
   "outputs": [],
   "source": [
    "# removing column URL as it as the duplicate data from id\n",
    "#and removing % form int_rate and revol_util\n",
    "df_Len_club.drop('url', axis=1, inplace = True)\n",
    "df_Len_club.int_rate = df_Len_club.int_rate.str[:-1].astype(float)\n",
    "df_Len_club.revol_util = df_Len_club.revol_util.str[:-1].astype(float)"
   ]
  },
  {
   "cell_type": "code",
   "execution_count": 245,
   "metadata": {},
   "outputs": [
    {
     "name": "stdout",
     "output_type": "stream",
     "text": [
      "<class 'pandas.core.frame.DataFrame'>\n",
      "Int64Index: 38577 entries, 1077501 to 87023\n",
      "Data columns (total 32 columns):\n",
      " #   Column                      Non-Null Count  Dtype  \n",
      "---  ------                      --------------  -----  \n",
      " 0   member_id                   38577 non-null  int64  \n",
      " 1   loan_amnt                   38577 non-null  int64  \n",
      " 2   funded_amnt                 38577 non-null  int64  \n",
      " 3   funded_amnt_inv             38577 non-null  float64\n",
      " 4   term_months                 38577 non-null  int32  \n",
      " 5   int_rate                    38577 non-null  float64\n",
      " 6   installment                 38577 non-null  float64\n",
      " 7   grade                       38577 non-null  object \n",
      " 8   sub_grade                   38577 non-null  object \n",
      " 9   emp_title                   36191 non-null  object \n",
      " 10  emp_length                  37544 non-null  object \n",
      " 11  home_ownership              38577 non-null  object \n",
      " 12  annual_inc                  38577 non-null  float64\n",
      " 13  verification_status         38577 non-null  object \n",
      " 14  issue_d                     38577 non-null  object \n",
      " 15  loan_status                 38577 non-null  object \n",
      " 16  pymnt_plan                  38577 non-null  object \n",
      " 17  purpose                     38577 non-null  object \n",
      " 18  title                       38566 non-null  object \n",
      " 19  zip_code                    38577 non-null  object \n",
      " 20  addr_state                  38577 non-null  object \n",
      " 21  dti                         38577 non-null  float64\n",
      " 22  revol_util                  38527 non-null  float64\n",
      " 23  total_acc                   38577 non-null  int64  \n",
      " 24  initial_list_status         38577 non-null  object \n",
      " 25  collections_12_mths_ex_med  38521 non-null  float64\n",
      " 26  policy_code                 38577 non-null  int64  \n",
      " 27  acc_now_delinq              38577 non-null  int64  \n",
      " 28  chargeoff_within_12_mths    38521 non-null  float64\n",
      " 29  delinq_amnt                 38577 non-null  int64  \n",
      " 30  pub_rec_bankruptcies        37880 non-null  float64\n",
      " 31  tax_liens                   38538 non-null  float64\n",
      "dtypes: float64(10), int32(1), int64(7), object(14)\n",
      "memory usage: 9.6+ MB\n"
     ]
    }
   ],
   "source": [
    "df_Len_club.info()"
   ]
  },
  {
   "cell_type": "markdown",
   "metadata": {},
   "source": [
    "## Data analysis "
   ]
  },
  {
   "cell_type": "code",
   "execution_count": 217,
   "metadata": {},
   "outputs": [],
   "source": [
    "import warnings\n",
    "warnings.filterwarnings(\"ignore\")\n",
    "import seaborn as sns"
   ]
  },
  {
   "cell_type": "code",
   "execution_count": 236,
   "metadata": {},
   "outputs": [
    {
     "data": {
      "text/plain": [
       "<AxesSubplot:>"
      ]
     },
     "execution_count": 236,
     "metadata": {},
     "output_type": "execute_result"
    },
    {
     "data": {
      "image/png": "[encoded data removed]",
      "text/plain": [
       "<Figure size 432x288 with 1 Axes>"
      ]
     },
     "metadata": {
      "needs_background": "light"
     },
     "output_type": "display_data"
    }
   ],
   "source": [
    "#Plot the reason for the loan  \n",
    "df_Len_club['purpose'].value_counts().plot.bar()\n"
   ]
  },
  {
   "cell_type": "code",
   "execution_count": 237,
   "metadata": {},
   "outputs": [
    {
     "data": {
      "image/png": "[encoded data removed]",
      "text/plain": [
       "<Figure size 432x288 with 1 Axes>"
      ]
     },
     "metadata": {
      "needs_background": "light"
     },
     "output_type": "display_data"
    }
   ],
   "source": [
    "#  distribution of loan on home Owner ship \n",
    "\n",
    "plt.hist(df_Len_club.home_ownership)\n",
    "plt.show()"
   ]
  },
  {
   "cell_type": "code",
   "execution_count": 243,
   "metadata": {},
   "outputs": [
    {
     "data": {
      "image/png": "[encoded data removed]",
      "text/plain": [
       "<Figure size 432x288 with 1 Axes>"
      ]
     },
     "metadata": {
      "needs_background": "light"
     },
     "output_type": "display_data"
    }
   ],
   "source": [
    "#loan instalment distribution\n",
    "\n",
    "sns.distplot(df_Len_club.installment)\n",
    "plt.show()"
   ]
  },
  {
   "cell_type": "code",
   "execution_count": 244,
   "metadata": {},
   "outputs": [
    {
     "data": {
      "text/plain": [
       "<AxesSubplot:>"
      ]
     },
     "execution_count": 244,
     "metadata": {},
     "output_type": "execute_result"
    },
    {
     "data": {
      "image/png": "[encoded data removed]",
      "text/plain": [
       "<Figure size 432x288 with 1 Axes>"
      ]
     },
     "metadata": {
      "needs_background": "light"
     },
     "output_type": "display_data"
    }
   ],
   "source": [
    "#Grade wise distribution \n",
    "df_Len_club['grade'].value_counts().plot.bar()"
   ]
  },
  {
   "cell_type": "code",
   "execution_count": null,
   "metadata": {},
   "outputs": [],
   "source": [
    "corr = loan.loc[:, [ 'funded_amnt', 'funded_amnt_inv', 'loan_amnt']].corr()\n",
    "plot.figure(figsize = (15,8))\n",
    "sea.heatmap(corr, annot = True, cmap='Blues')\n",
    "plot.show()"
   ]
  },
  {
   "cell_type": "code",
   "execution_count": null,
   "metadata": {},
   "outputs": [],
   "source": []
  },
  {
   "cell_type": "raw",
   "metadata": {},
   "source": []
  },
  {
   "cell_type": "code",
   "execution_count": null,
   "metadata": {},
   "outputs": [],
   "source": []
  },
  {
   "cell_type": "code",
   "execution_count": null,
   "metadata": {},
   "outputs": [],
   "source": []
  },
  {
   "cell_type": "code",
   "execution_count": null,
   "metadata": {},
   "outputs": [],
   "source": []
  },
  {
   "cell_type": "code",
   "execution_count": null,
   "metadata": {},
   "outputs": [],
   "source": []
  },
  {
   "cell_type": "code",
   "execution_count": null,
   "metadata": {},
   "outputs": [],
   "source": []
  },
  {
   "cell_type": "code",
   "execution_count": null,
   "metadata": {},
   "outputs": [],
   "source": []
  },
  {
   "cell_type": "code",
   "execution_count": null,
   "metadata": {},
   "outputs": [],
   "source": []
  },
  {
   "cell_type": "code",
   "execution_count": null,
   "metadata": {},
   "outputs": [],
   "source": []
  },
  {
   "cell_type": "code",
   "execution_count": null,
   "metadata": {},
   "outputs": [],
   "source": []
  }
 ],
 "metadata": {
  "colab": {
   "collapsed_sections": [],
   "provenance": []
  },
  "kernelspec": {
   "display_name": "Python 3 (ipykernel)",
   "language": "python",
   "name": "python3"
  },
  "language_info": {
   "codemirror_mode": {
    "name": "ipython",
    "version": 3
   },
   "file_extension": ".py",
   "mimetype": "text/x-python",
   "name": "python",
   "nbconvert_exporter": "python",
   "pygments_lexer": "ipython3",
   "version": "3.9.12"
  }
 },
 "nbformat": 4,
 "nbformat_minor": 1
}
